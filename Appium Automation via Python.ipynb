{
 "cells": [
  {
   "cell_type": "code",
   "execution_count": 1,
   "metadata": {},
   "outputs": [],
   "source": [
    "from appium import webdriver\n",
    "import time"
   ]
  },
  {
   "cell_type": "code",
   "execution_count": 2,
   "metadata": {},
   "outputs": [],
   "source": [
    "default_capabilities = {\n",
    "    \"platformName\": \"android\",\n",
    "    \"appActivity\": \"com.atg.world.activity.SplashActivity\",\n",
    "    \"appWaitDuration\": \"5000\",\n",
    "    \"appExecTimeout\": \"50000\",\n",
    "    \"uiautomator2ServerLaunchTimeout\": \"50000\",\n",
    "    \"uiautomator2ServerInstallTimeout\": \"50000\",\n",
    "    \"appPackage\": \"com.ATG.World\",\n",
    "    \"deviceName\": \"emulator-5554\",\n",
    "    \"driver\": \"http://localhost:4723/wd/hub\",\n",
    "    #\"app\": \"D:\\Jay\\Codes\\AndroidStudioProjects\\app-chat-debug (1).apk\"\n",
    "}\n",
    "\n"
   ]
  },
  {
   "cell_type": "code",
   "execution_count": 3,
   "metadata": {},
   "outputs": [],
   "source": [
    "\n",
    "driver = webdriver.Remote(\"http://localhost:4723/wd/hub\", default_capabilities)\n",
    "time.sleep(3)"
   ]
  },
  {
   "cell_type": "code",
   "execution_count": 4,
   "metadata": {},
   "outputs": [
    {
     "name": "stderr",
     "output_type": "stream",
     "text": [
      
     ]
    }
   ],
   "source": [
    "\n",
    "allow = driver.find_element_by_id(\"com.android.permissioncontroller:id/permission_allow_button\")\n",
    "allow.click()\n",
    "time.sleep(2)\n",
    "\n",
    "\n",
    "get_start = driver.find_element_by_id(\"com.ATG.World:id/getStartedTv\")\n",
    "get_start.click()\n",
    "time.sleep(2)\n",
    "login = driver.find_element_by_id(\"com.ATG.World:id/login_email\")\n",
    "login.click()\n",
    "time.sleep(2)\n",
    "\n",
    "#test_LoginWithRightCredential()\n",
    "\n",
    "email = driver.find_element_by_id(\"com.ATG.World:id/email_phone_login\")\n",
    "email.send_keys(\"wiz_saurabh@rediffmail.com\")\n",
    "sign_in = driver.find_element_by_id(\"com.ATG.World:id/signinbutton\")\n",
    "sign_in.click()\n",
    "time.sleep(2)\n",
    "\n",
    "password = driver.find_element_by_id(\"com.ATG.World:id/password\")\n",
    "time.sleep(1)\n",
    "password.send_keys(\"Pass@123\")\n",
    "time.sleep(2)\n",
    "signin = driver.find_element_by_id(\"com.ATG.World:id/passwordloginbutton\")\n",
    "signin.click()\n",
    "\n",
    "time.sleep(3)\n",
    "\n",
    "search_id= driver.find_element_by_id(\"com.ATG.World:id/dummy_search_edit_text\")\n",
    "search_id.click()\n",
    "time.sleep(3)\n",
    "\n",
    "cancel= driver.find_element_by_id(\"com.ATG.World:id/cancel_btn\")\n",
    "cancel.click()\n",
    "time.sleep(2)\n",
    "\n",
    "pencil= driver.find_element_by_id(\"com.ATG.World:id/fab\")\n",
    "pencil.click()\n",
    "time.sleep(1)\n",
    "\n",
    "image_id= driver.find_element_by_id(\"com.ATG.World:id/image_fab_clicked\")\n",
    "image_id.click()\n",
    "time.sleep(2)\n",
    "\n",
    "button1 = driver.find_element_by_id(\"android:id/button1\")\n",
    "button1.click()\n",
    "time.sleep(2)\n",
    "\n",
    "perm = driver.find_element_by_id(\"com.android.permissioncontroller:id/permission_allow_one_time_button\")\n",
    "perm.click()\n",
    "time.sleep(2)\n",
    "\n",
    "cam_but = driver.find_element_by_id(\"com.ATG.World:id/camera_btn\")\n",
    "cam_but.click()\n",
    "time.sleep(2)\n",
    "\n",
    "flipcam = driver.find_element_by_id(\"com.ATG.World:id/flipCamera\")\n",
    "flipcam.click()\n",
    "time.sleep(2)\n",
    "\n",
    "pic_id= driver.find_element_by_id(\"com.ATG.World:id/img_clicked_btn\")\n",
    "pic_id.click()\n",
    "time.sleep(1)\n",
    "\n",
    "post_id= driver.find_element_by_id(\"com.ATG.World:id/toolbar_post_action\")\n",
    "post_id.click()\n",
    "time.sleep(3)\n",
    "\n",
    "caption_id= driver.find_element_by_id(\"com.ATG.World:id/caption_edit_text\")\n",
    "caption_id.send_keys(\"Image posted\")\n",
    "time.sleep(1)\n",
    "\n",
    "posted= driver.find_element_by_id(\"com.ATG.World:id/toolbar_post_action\")\n",
    "posted.click()\n",
    "time.sleep(2)\n",
    "\n",
    "done= driver.find_element_by_id(\"com.ATG.World:id/selection_done_btn\")\n",
    "done.click()"
   ]
  },
  {
   "cell_type": "code",
   "execution_count": null,
   "metadata": {},
   "outputs": [],
   "source": []
  }
 ],
 "metadata": {
  "kernelspec": {
   "display_name": "appium_kernel",
   "language": "python",
   "name": "appium_kernel"
  },
  "language_info": {
   "codemirror_mode": {
    "name": "ipython",
    "version": 3
   },
   "file_extension": ".py",
   "mimetype": "text/x-python",
   "name": "python",
   "nbconvert_exporter": "python",
   "pygments_lexer": "ipython3",
   "version": "3.9.0"
  }
 },
 "nbformat": 4,
 "nbformat_minor": 4
}
